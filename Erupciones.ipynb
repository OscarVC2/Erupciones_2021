{
 "cells": [
  {
   "cell_type": "code",
   "execution_count": 1,
   "id": "54a03197-e66a-454d-a723-ea5b59ade235",
   "metadata": {},
   "outputs": [],
   "source": [
    "import numpy as np\n",
    "import pandas as pd\n",
    "import matplotlib.pyplot as plt\n",
    "import seaborn as sns\n",
    "import warnings\n",
    "\n",
    "warnings.filterwarnings(\"ignore\")\n",
    "pd.set_option('display.max.rows',169)\n",
    "pd.set_option('display.max.columns',169)\n",
    "pd.set_option('float_format', '{:.2f}'.format)"
   ]
  },
  {
   "cell_type": "markdown",
   "id": "01f26f2f-bf97-46ea-9682-a087221dc2e1",
   "metadata": {},
   "source": [
    "# Exploracion de la base de datos"
   ]
  },
  {
   "cell_type": "code",
   "execution_count": 2,
   "id": "9ef80c57-fc4c-4b7a-b2b0-6daf16c1469c",
   "metadata": {},
   "outputs": [
    {
     "data": {
      "text/html": [
       "<div>\n",
       "<style scoped>\n",
       "    .dataframe tbody tr th:only-of-type {\n",
       "        vertical-align: middle;\n",
       "    }\n",
       "\n",
       "    .dataframe tbody tr th {\n",
       "        vertical-align: top;\n",
       "    }\n",
       "\n",
       "    .dataframe thead th {\n",
       "        text-align: right;\n",
       "    }\n",
       "</style>\n",
       "<table border=\"1\" class=\"dataframe\">\n",
       "  <thead>\n",
       "    <tr style=\"text-align: right;\">\n",
       "      <th></th>\n",
       "      <th>feature1</th>\n",
       "      <th>feature2</th>\n",
       "      <th>feature3</th>\n",
       "      <th>feature4</th>\n",
       "      <th>feature5</th>\n",
       "      <th>feature6</th>\n",
       "      <th>target</th>\n",
       "    </tr>\n",
       "  </thead>\n",
       "  <tbody>\n",
       "    <tr>\n",
       "      <th>0</th>\n",
       "      <td>0.47</td>\n",
       "      <td>0.88</td>\n",
       "      <td>-2.05</td>\n",
       "      <td>-1.25</td>\n",
       "      <td>-1.04</td>\n",
       "      <td>-1.93</td>\n",
       "      <td>4</td>\n",
       "    </tr>\n",
       "    <tr>\n",
       "      <th>1</th>\n",
       "      <td>-1.03</td>\n",
       "      <td>1.74</td>\n",
       "      <td>-1.66</td>\n",
       "      <td>-1.56</td>\n",
       "      <td>-0.34</td>\n",
       "      <td>-2.47</td>\n",
       "      <td>0</td>\n",
       "    </tr>\n",
       "    <tr>\n",
       "      <th>2</th>\n",
       "      <td>-0.56</td>\n",
       "      <td>-0.69</td>\n",
       "      <td>-0.32</td>\n",
       "      <td>-1.85</td>\n",
       "      <td>0.35</td>\n",
       "      <td>-0.91</td>\n",
       "      <td>1</td>\n",
       "    </tr>\n",
       "    <tr>\n",
       "      <th>3</th>\n",
       "      <td>-1.27</td>\n",
       "      <td>2.77</td>\n",
       "      <td>1.05</td>\n",
       "      <td>2.83</td>\n",
       "      <td>0.40</td>\n",
       "      <td>0.68</td>\n",
       "      <td>3</td>\n",
       "    </tr>\n",
       "    <tr>\n",
       "      <th>4</th>\n",
       "      <td>-1.22</td>\n",
       "      <td>-0.39</td>\n",
       "      <td>-2.90</td>\n",
       "      <td>-0.91</td>\n",
       "      <td>-2.17</td>\n",
       "      <td>-2.37</td>\n",
       "      <td>0</td>\n",
       "    </tr>\n",
       "  </tbody>\n",
       "</table>\n",
       "</div>"
      ],
      "text/plain": [
       "   feature1  feature2  feature3  feature4  feature5  feature6  target\n",
       "0      0.47      0.88     -2.05     -1.25     -1.04     -1.93       4\n",
       "1     -1.03      1.74     -1.66     -1.56     -0.34     -2.47       0\n",
       "2     -0.56     -0.69     -0.32     -1.85      0.35     -0.91       1\n",
       "3     -1.27      2.77      1.05      2.83      0.40      0.68       3\n",
       "4     -1.22     -0.39     -2.90     -0.91     -2.17     -2.37       0"
      ]
     },
     "execution_count": 2,
     "metadata": {},
     "output_type": "execute_result"
    }
   ],
   "source": [
    "df = pd.read_csv('jm_train.csv')\n",
    "df.head()"
   ]
  },
  {
   "cell_type": "code",
   "execution_count": 3,
   "id": "4672be93-06c4-4072-af32-49aee54eedd7",
   "metadata": {},
   "outputs": [
    {
     "data": {
      "text/plain": [
       "(2100, 7)"
      ]
     },
     "execution_count": 3,
     "metadata": {},
     "output_type": "execute_result"
    }
   ],
   "source": [
    "df.shape"
   ]
  },
  {
   "cell_type": "markdown",
   "id": "e920f53f-9363-4203-9edc-1784141e4dd1",
   "metadata": {},
   "source": [
    "La base de datos para entrenar cuenta con 2100 filas y 7 columnas"
   ]
  },
  {
   "cell_type": "code",
   "execution_count": 4,
   "id": "0d38b54e-a695-45c4-b245-eeb7abfffe20",
   "metadata": {},
   "outputs": [
    {
     "name": "stdout",
     "output_type": "stream",
     "text": [
      "<class 'pandas.core.frame.DataFrame'>\n",
      "RangeIndex: 2100 entries, 0 to 2099\n",
      "Data columns (total 7 columns):\n",
      " #   Column    Non-Null Count  Dtype  \n",
      "---  ------    --------------  -----  \n",
      " 0   feature1  2100 non-null   float64\n",
      " 1   feature2  2100 non-null   float64\n",
      " 2   feature3  2100 non-null   float64\n",
      " 3   feature4  2100 non-null   float64\n",
      " 4   feature5  2100 non-null   float64\n",
      " 5   feature6  2100 non-null   float64\n",
      " 6   target    2100 non-null   int64  \n",
      "dtypes: float64(6), int64(1)\n",
      "memory usage: 115.0 KB\n"
     ]
    }
   ],
   "source": [
    "df.info(verbose = True,null_counts = True)"
   ]
  },
  {
   "cell_type": "markdown",
   "id": "af2d5f95-21e2-4cc4-8de9-eb041f19d9d9",
   "metadata": {},
   "source": [
    "No se encontraron valores nulos"
   ]
  },
  {
   "cell_type": "markdown",
   "id": "7ddc51bd-3078-4796-bb0b-356033ce53c2",
   "metadata": {},
   "source": [
    "## Revision estadistica de los datos"
   ]
  },
  {
   "cell_type": "code",
   "execution_count": 5,
   "id": "9b03ad38-aa20-47c3-b0af-9042835d8152",
   "metadata": {},
   "outputs": [
    {
     "data": {
      "text/html": [
       "<div>\n",
       "<style scoped>\n",
       "    .dataframe tbody tr th:only-of-type {\n",
       "        vertical-align: middle;\n",
       "    }\n",
       "\n",
       "    .dataframe tbody tr th {\n",
       "        vertical-align: top;\n",
       "    }\n",
       "\n",
       "    .dataframe thead th {\n",
       "        text-align: right;\n",
       "    }\n",
       "</style>\n",
       "<table border=\"1\" class=\"dataframe\">\n",
       "  <thead>\n",
       "    <tr style=\"text-align: right;\">\n",
       "      <th></th>\n",
       "      <th>feature1</th>\n",
       "      <th>feature2</th>\n",
       "      <th>feature3</th>\n",
       "      <th>feature4</th>\n",
       "      <th>feature5</th>\n",
       "      <th>feature6</th>\n",
       "      <th>target</th>\n",
       "    </tr>\n",
       "  </thead>\n",
       "  <tbody>\n",
       "    <tr>\n",
       "      <th>count</th>\n",
       "      <td>2100.00</td>\n",
       "      <td>2100.00</td>\n",
       "      <td>2100.00</td>\n",
       "      <td>2100.00</td>\n",
       "      <td>2100.00</td>\n",
       "      <td>2100.00</td>\n",
       "      <td>2100.00</td>\n",
       "    </tr>\n",
       "    <tr>\n",
       "      <th>mean</th>\n",
       "      <td>-0.20</td>\n",
       "      <td>0.20</td>\n",
       "      <td>-0.38</td>\n",
       "      <td>-0.21</td>\n",
       "      <td>-0.19</td>\n",
       "      <td>-0.43</td>\n",
       "      <td>1.98</td>\n",
       "    </tr>\n",
       "    <tr>\n",
       "      <th>std</th>\n",
       "      <td>1.54</td>\n",
       "      <td>1.61</td>\n",
       "      <td>1.45</td>\n",
       "      <td>1.44</td>\n",
       "      <td>1.50</td>\n",
       "      <td>1.19</td>\n",
       "      <td>1.41</td>\n",
       "    </tr>\n",
       "    <tr>\n",
       "      <th>min</th>\n",
       "      <td>-6.68</td>\n",
       "      <td>-5.38</td>\n",
       "      <td>-6.15</td>\n",
       "      <td>-5.65</td>\n",
       "      <td>-5.91</td>\n",
       "      <td>-4.43</td>\n",
       "      <td>0.00</td>\n",
       "    </tr>\n",
       "    <tr>\n",
       "      <th>25%</th>\n",
       "      <td>-1.17</td>\n",
       "      <td>-0.88</td>\n",
       "      <td>-1.37</td>\n",
       "      <td>-1.26</td>\n",
       "      <td>-1.21</td>\n",
       "      <td>-1.13</td>\n",
       "      <td>1.00</td>\n",
       "    </tr>\n",
       "    <tr>\n",
       "      <th>50%</th>\n",
       "      <td>-0.44</td>\n",
       "      <td>0.32</td>\n",
       "      <td>-0.44</td>\n",
       "      <td>-0.18</td>\n",
       "      <td>-0.20</td>\n",
       "      <td>-0.41</td>\n",
       "      <td>2.00</td>\n",
       "    </tr>\n",
       "    <tr>\n",
       "      <th>75%</th>\n",
       "      <td>0.89</td>\n",
       "      <td>1.32</td>\n",
       "      <td>0.66</td>\n",
       "      <td>0.87</td>\n",
       "      <td>0.85</td>\n",
       "      <td>0.35</td>\n",
       "      <td>3.00</td>\n",
       "    </tr>\n",
       "    <tr>\n",
       "      <th>max</th>\n",
       "      <td>4.57</td>\n",
       "      <td>6.70</td>\n",
       "      <td>4.16</td>\n",
       "      <td>4.37</td>\n",
       "      <td>5.07</td>\n",
       "      <td>4.02</td>\n",
       "      <td>4.00</td>\n",
       "    </tr>\n",
       "  </tbody>\n",
       "</table>\n",
       "</div>"
      ],
      "text/plain": [
       "       feature1  feature2  feature3  feature4  feature5  feature6  target\n",
       "count   2100.00   2100.00   2100.00   2100.00   2100.00   2100.00 2100.00\n",
       "mean      -0.20      0.20     -0.38     -0.21     -0.19     -0.43    1.98\n",
       "std        1.54      1.61      1.45      1.44      1.50      1.19    1.41\n",
       "min       -6.68     -5.38     -6.15     -5.65     -5.91     -4.43    0.00\n",
       "25%       -1.17     -0.88     -1.37     -1.26     -1.21     -1.13    1.00\n",
       "50%       -0.44      0.32     -0.44     -0.18     -0.20     -0.41    2.00\n",
       "75%        0.89      1.32      0.66      0.87      0.85      0.35    3.00\n",
       "max        4.57      6.70      4.16      4.37      5.07      4.02    4.00"
      ]
     },
     "execution_count": 5,
     "metadata": {},
     "output_type": "execute_result"
    }
   ],
   "source": [
    "df.describe()"
   ]
  },
  {
   "cell_type": "markdown",
   "id": "3d589dbf-ead3-4e6c-b071-fe89886212ad",
   "metadata": {},
   "source": [
    "## Variables categoricas y numericas"
   ]
  },
  {
   "cell_type": "code",
   "execution_count": 6,
   "id": "1d1e26b0-3834-499a-8349-7d0fb95ebc67",
   "metadata": {},
   "outputs": [
    {
     "data": {
      "text/plain": [
       "Index([], dtype='object')"
      ]
     },
     "execution_count": 6,
     "metadata": {},
     "output_type": "execute_result"
    }
   ],
   "source": [
    "df.select_dtypes(include = \"object\").columns"
   ]
  },
  {
   "cell_type": "code",
   "execution_count": 7,
   "id": "72ca9a56-9588-4781-a8bd-c47320408a5f",
   "metadata": {},
   "outputs": [
    {
     "data": {
      "text/plain": [
       "Index(['feature1', 'feature2', 'feature3', 'feature4', 'feature5', 'feature6',\n",
       "       'target'],\n",
       "      dtype='object')"
      ]
     },
     "execution_count": 7,
     "metadata": {},
     "output_type": "execute_result"
    }
   ],
   "source": [
    "df.select_dtypes(include=[\"int64\",\"float64\"]).columns"
   ]
  },
  {
   "cell_type": "markdown",
   "id": "76f0d9c3-697f-41e1-84c8-4ff6f1227101",
   "metadata": {},
   "source": [
    "## Busqueda de valores nulos"
   ]
  },
  {
   "cell_type": "code",
   "execution_count": 8,
   "id": "71216653-9d71-4c21-a33f-431318697870",
   "metadata": {},
   "outputs": [],
   "source": [
    "null_count = df.isnull().sum()\n",
    "null_percentage = round((df.isnull().sum()/df.shape[0])*100, 2)"
   ]
  },
  {
   "cell_type": "code",
   "execution_count": 9,
   "id": "7b5254ae-a6bd-45b2-81f9-2debd686b744",
   "metadata": {},
   "outputs": [],
   "source": [
    "null_df = pd.DataFrame({'column_name' : df.columns,'null_count' : null_count,'null_percentage': null_percentage})\n",
    "null_df.reset_index(drop = True, inplace = True)"
   ]
  },
  {
   "cell_type": "code",
   "execution_count": 10,
   "id": "4defad30-dc21-454b-87e2-895dcf66775f",
   "metadata": {},
   "outputs": [
    {
     "data": {
      "text/html": [
       "<div>\n",
       "<style scoped>\n",
       "    .dataframe tbody tr th:only-of-type {\n",
       "        vertical-align: middle;\n",
       "    }\n",
       "\n",
       "    .dataframe tbody tr th {\n",
       "        vertical-align: top;\n",
       "    }\n",
       "\n",
       "    .dataframe thead th {\n",
       "        text-align: right;\n",
       "    }\n",
       "</style>\n",
       "<table border=\"1\" class=\"dataframe\">\n",
       "  <thead>\n",
       "    <tr style=\"text-align: right;\">\n",
       "      <th></th>\n",
       "      <th>column_name</th>\n",
       "      <th>null_count</th>\n",
       "      <th>null_percentage</th>\n",
       "    </tr>\n",
       "  </thead>\n",
       "  <tbody>\n",
       "    <tr>\n",
       "      <th>0</th>\n",
       "      <td>feature1</td>\n",
       "      <td>0</td>\n",
       "      <td>0.00</td>\n",
       "    </tr>\n",
       "    <tr>\n",
       "      <th>1</th>\n",
       "      <td>feature2</td>\n",
       "      <td>0</td>\n",
       "      <td>0.00</td>\n",
       "    </tr>\n",
       "    <tr>\n",
       "      <th>2</th>\n",
       "      <td>feature3</td>\n",
       "      <td>0</td>\n",
       "      <td>0.00</td>\n",
       "    </tr>\n",
       "    <tr>\n",
       "      <th>3</th>\n",
       "      <td>feature4</td>\n",
       "      <td>0</td>\n",
       "      <td>0.00</td>\n",
       "    </tr>\n",
       "    <tr>\n",
       "      <th>4</th>\n",
       "      <td>feature5</td>\n",
       "      <td>0</td>\n",
       "      <td>0.00</td>\n",
       "    </tr>\n",
       "    <tr>\n",
       "      <th>5</th>\n",
       "      <td>feature6</td>\n",
       "      <td>0</td>\n",
       "      <td>0.00</td>\n",
       "    </tr>\n",
       "    <tr>\n",
       "      <th>6</th>\n",
       "      <td>target</td>\n",
       "      <td>0</td>\n",
       "      <td>0.00</td>\n",
       "    </tr>\n",
       "  </tbody>\n",
       "</table>\n",
       "</div>"
      ],
      "text/plain": [
       "  column_name  null_count  null_percentage\n",
       "0    feature1           0             0.00\n",
       "1    feature2           0             0.00\n",
       "2    feature3           0             0.00\n",
       "3    feature4           0             0.00\n",
       "4    feature5           0             0.00\n",
       "5    feature6           0             0.00\n",
       "6      target           0             0.00"
      ]
     },
     "execution_count": 10,
     "metadata": {},
     "output_type": "execute_result"
    }
   ],
   "source": [
    "null_df.sort_values(by = 'null_percentage', ascending = False)"
   ]
  },
  {
   "cell_type": "markdown",
   "id": "3e580ae8-536b-4d4f-86bd-b20f53cf042a",
   "metadata": {},
   "source": [
    "## Eliminacion de outliers"
   ]
  },
  {
   "cell_type": "code",
   "execution_count": 11,
   "id": "55b0bc07-fd76-4ea1-bebc-6a61c3d773c3",
   "metadata": {},
   "outputs": [],
   "source": [
    "from collections import Counter\n",
    "\n",
    "#drop the label \n",
    "outlier_list = ['feature1', 'feature2', 'feature3', 'feature4', 'feature5', 'feature6'] \n",
    "\n",
    "def detect_outlier(df,feature):\n",
    "    \n",
    "    outlier_indices = []\n",
    "    \n",
    "    for f in feature:\n",
    "        \n",
    "        #lower quartile\n",
    "        q1 = np.percentile(df[f],25)\n",
    "        \n",
    "        #upper quartile\n",
    "        q3 = np.percentile(df[f],75)\n",
    "        \n",
    "        #interquartile range\n",
    "        iqr = q3-q1\n",
    "        \n",
    "        #with coefficient\n",
    "        with_coef = 1.5*iqr\n",
    "        \n",
    "        #detect outlier(s)\n",
    "        lower_rule = q1-with_coef\n",
    "        upper_rule = q3+with_coef\n",
    "        \n",
    "        outlier_variable = df[(df[f]<lower_rule) | (df[f]>upper_rule)].index\n",
    "        outlier_indices.extend(outlier_variable)\n",
    "    \n",
    "    #converting to amount\n",
    "    outlier_indices = Counter(outlier_indices)\n",
    "    multiple_outliers = list(i for i,v in outlier_indices.items() if v>2)\n",
    "    \n",
    "    return multiple_outliers\n",
    "\n",
    " \n",
    "#drop outliers\n",
    "df = df.drop(detect_outlier(df,outlier_list),axis=0).reset_index(drop=True)"
   ]
  },
  {
   "cell_type": "markdown",
   "id": "ee4bd97c-095b-4f10-a3ce-ce233a0e18a8",
   "metadata": {},
   "source": [
    "## Revision del Target"
   ]
  },
  {
   "cell_type": "code",
   "execution_count": 12,
   "id": "3ab5f76c-80a2-4572-92b8-dd3c631b9632",
   "metadata": {},
   "outputs": [],
   "source": [
    "def distributions(df, category_columns):\n",
    "    plt.figure(figsize = (10,5))\n",
    "    ax = sns.countplot(x = df[category_columns], data = df)\n",
    "    for p in ax.patches:\n",
    "        percentage = '{:.1f}%'.format(100 * p.get_height()/len(df[category_columns]))\n",
    "        x = p.get_x() + p.get_width() / 2 - 0.05\n",
    "        y = p.get_y() + p.get_height()\n",
    "        plt.annotate(percentage, (x, y),ha='center')\n",
    "    plt.show()"
   ]
  },
  {
   "cell_type": "code",
   "execution_count": 13,
   "id": "ecb669dc-ceb2-4c2c-987c-7e8f0556d998",
   "metadata": {},
   "outputs": [
    {
     "data": {
      "image/png": "[encoded data removed]",
      "text/plain": [
       "<Figure size 720x360 with 1 Axes>"
      ]
     },
     "metadata": {
      "needs_background": "light"
     },
     "output_type": "display_data"
    }
   ],
   "source": [
    "distributions(df,'target')\n",
    "plt.show()"
   ]
  },
  {
   "cell_type": "markdown",
   "id": "a90670f7-2ade-4806-bd53-a24cc91884b5",
   "metadata": {},
   "source": [
    "## Un vistazo a la correlacion de los datos"
   ]
  },
  {
   "cell_type": "code",
   "execution_count": 14,
   "id": "3a29bd62-a57f-4e70-b2dd-14c8d927657b",
   "metadata": {},
   "outputs": [
    {
     "data": {
      "image/png": "[encoded data removed]",
      "text/plain": [
       "<Figure size 1080x360 with 2 Axes>"
      ]
     },
     "metadata": {
      "needs_background": "light"
     },
     "output_type": "display_data"
    }
   ],
   "source": [
    "plt.figure(figsize=(15,5))\n",
    "sns.heatmap(df.corr(),annot=True,cmap=\"YlGnBu\", linewidths=.5,fmt='.2f')\n",
    "plt.show()"
   ]
  },
  {
   "cell_type": "markdown",
   "id": "ba2dfb15-3b0b-4a56-88d3-d5ae4cc8c1f9",
   "metadata": {},
   "source": [
    "## Distribucion de X y Y"
   ]
  },
  {
   "cell_type": "code",
   "execution_count": 15,
   "id": "393a70b7-d831-4da4-b3c4-44628cd451cb",
   "metadata": {},
   "outputs": [],
   "source": [
    "X = df.drop(['target'], axis = 1)\n",
    "y = df['target']"
   ]
  },
  {
   "cell_type": "code",
   "execution_count": 16,
   "id": "1543359c-7bf0-4325-adc4-d4ac365ea46c",
   "metadata": {},
   "outputs": [],
   "source": [
    "from sklearn.pipeline import make_pipeline\n",
    "from sklearn.ensemble import RandomForestClassifier\n",
    "from sklearn.model_selection import GridSearchCV\n",
    "from sklearn.model_selection import RepeatedStratifiedKFold\n",
    "from sklearn.ensemble import VotingClassifier"
   ]
  },
  {
   "cell_type": "code",
   "execution_count": 17,
   "id": "f82aedbf-b5a5-4083-84e1-4ca791d5cd22",
   "metadata": {},
   "outputs": [],
   "source": [
    "cv = RepeatedStratifiedKFold(n_splits=10, n_repeats=3, random_state=42)"
   ]
  },
  {
   "cell_type": "markdown",
   "id": "330db1f6-3831-45fc-82a3-5f51ebd38285",
   "metadata": {},
   "source": [
    "## Creacion del Pipeline y definicion de hiperparametros"
   ]
  },
  {
   "cell_type": "code",
   "execution_count": 18,
   "id": "884ccdff-9764-4987-b126-21a6fb0bbbbb",
   "metadata": {},
   "outputs": [],
   "source": [
    "pipelines = {\n",
    "    'rf': make_pipeline(RandomForestClassifier(random_state=42))\n",
    "}"
   ]
  },
  {
   "cell_type": "code",
   "execution_count": 19,
   "id": "6234d515-59e1-4e70-9f9e-353e9869c795",
   "metadata": {},
   "outputs": [
    {
     "name": "stdout",
     "output_type": "stream",
     "text": [
      "rf <class 'sklearn.pipeline.Pipeline'>\n"
     ]
    }
   ],
   "source": [
    "for key, value in pipelines.items():\n",
    "    print(key, type(value))"
   ]
  },
  {
   "cell_type": "code",
   "execution_count": 20,
   "id": "4f9b76d4-c3c7-46e9-9346-30e4b9d52b7f",
   "metadata": {},
   "outputs": [],
   "source": [
    "rf_hyperparameters = {\n",
    "    'randomforestclassifier__criterion':['entropy','gini'],\n",
    "    'randomforestclassifier__n_estimators': [100, 200, 300],\n",
    "    'randomforestclassifier__max_features': ['auto', 0.3, 0.6],\n",
    "    'randomforestclassifier__min_samples_split':[2,3,10],\n",
    "    'randomforestclassifier__min_samples_leaf':[1,3,10],\n",
    "    'randomforestclassifier__bootstrap':[True, False]\n",
    "}"
   ]
  },
  {
   "cell_type": "code",
   "execution_count": 21,
   "id": "a1356c88-e1aa-4031-a10e-4ada8ed5df3d",
   "metadata": {},
   "outputs": [],
   "source": [
    "hyperparameter_grids = {\n",
    "    'rf': rf_hyperparameters\n",
    "}"
   ]
  },
  {
   "cell_type": "code",
   "execution_count": 22,
   "id": "07b2fa66-cfe4-42d0-a0fb-d6260c533155",
   "metadata": {},
   "outputs": [
    {
     "name": "stdout",
     "output_type": "stream",
     "text": [
      "rf was found, and it is a grid.\n"
     ]
    }
   ],
   "source": [
    "for key in ['rf']:\n",
    "    if key in hyperparameter_grids:\n",
    "        if type(hyperparameter_grids[key]) is dict:\n",
    "            print( key, 'was found, and it is a grid.' )\n",
    "        else:\n",
    "            print( key, 'was found, but it is not a grid.' )\n",
    "    else:\n",
    "        print( key, 'was not found')"
   ]
  },
  {
   "cell_type": "code",
   "execution_count": 23,
   "id": "15472e53-6b11-4e21-be90-a6792e6b0793",
   "metadata": {},
   "outputs": [
    {
     "data": {
      "text/plain": [
       "dict_keys(['rf'])"
      ]
     },
     "execution_count": 23,
     "metadata": {},
     "output_type": "execute_result"
    }
   ],
   "source": [
    "models = {}\n",
    "\n",
    "for key in pipelines.keys():\n",
    "    models[key]= GridSearchCV(pipelines[key], hyperparameter_grids[key], cv=cv, scoring = 'f1_macro',\n",
    "                             n_jobs= -1,\n",
    "                             verbose = 1)\n",
    "    \n",
    "models.keys()"
   ]
  },
  {
   "cell_type": "markdown",
   "id": "e5337e88-1fd8-48a8-86da-0261aed86f02",
   "metadata": {},
   "source": [
    "## Entrenamiento del modelo"
   ]
  },
  {
   "cell_type": "code",
   "execution_count": null,
   "id": "b7bb45ee-8632-40fb-89f6-1f661dd97833",
   "metadata": {},
   "outputs": [
    {
     "name": "stdout",
     "output_type": "stream",
     "text": [
      "Fitting 30 folds for each of 4860 candidates, totalling 145800 fits\n"
     ]
    }
   ],
   "source": [
    "best_estimators = []\n",
    "\n",
    "for key in models.keys():\n",
    "    clf = models[key].fit(X,y)\n",
    "    best_estimators.append(clf.best_estimator_)\n",
    "    print(key, \"is trained and tuned\")\n",
    "    print('Method: {} Best: {}' .format(key,clf.best_estimator_))"
   ]
  },
  {
   "cell_type": "code",
   "execution_count": null,
   "id": "a49bff95-39ea-4aec-9e0f-672526bd84e4",
   "metadata": {},
   "outputs": [],
   "source": [
    "from sklearn.metrics import accuracy_score, f1_score, precision_score, recall_score"
   ]
  },
  {
   "cell_type": "code",
   "execution_count": null,
   "id": "85ea8538-9630-4812-8cae-58784edc1253",
   "metadata": {},
   "outputs": [],
   "source": [
    "voting_c = VotingClassifier(estimators=[('rf',best_estimators[0])\n",
    "                                       ],\n",
    "                           voting='soft',\n",
    "                           n_jobs=-1)"
   ]
  },
  {
   "cell_type": "code",
   "execution_count": null,
   "id": "2be11c71-5d19-49d4-9f1f-b1aa02f3e00d",
   "metadata": {},
   "outputs": [],
   "source": [
    "voting_c = voting_c.fit(X,y)"
   ]
  },
  {
   "cell_type": "markdown",
   "id": "df8ccbc9-cd5d-4418-8d9d-1125c454b7a2",
   "metadata": {},
   "source": [
    "## Resultados"
   ]
  },
  {
   "cell_type": "code",
   "execution_count": null,
   "id": "f3f369d0-74db-4f87-80f2-d1d43aa5621e",
   "metadata": {},
   "outputs": [],
   "source": [
    "#Datos con train\n",
    "\n",
    "print(\"Score del modelo (accuracy):\", round(voting_c.score(X, y), 3))\n",
    "print(\"Accuracy score:\", round(accuracy_score(voting_c.predict(X), y), 3))\n",
    "print(\"Recall score:\", recall_score(voting_c.predict(X), y, \n",
    "                                           average='micro'))\n",
    "print(\"Precision score:\", precision_score(voting_c.predict(X), y, average='micro'))\n",
    "print(\"F1 score:\", f1_score(voting_c.predict(X), y, average='micro'))"
   ]
  },
  {
   "cell_type": "code",
   "execution_count": null,
   "id": "7ba2092e-3a13-4b2c-8ead-0c55955b780d",
   "metadata": {},
   "outputs": [],
   "source": [
    "df_test = pd.read_csv(\"jm_X_test.csv\")"
   ]
  },
  {
   "cell_type": "code",
   "execution_count": null,
   "id": "3b819518-ef7c-4061-8cee-f9facd8691ae",
   "metadata": {},
   "outputs": [],
   "source": [
    "df_test.head()"
   ]
  },
  {
   "cell_type": "code",
   "execution_count": null,
   "id": "6c66c196-8153-4414-8737-5eae7ab31817",
   "metadata": {},
   "outputs": [],
   "source": [
    "df_test['final_status']= voting_c.predict(df_test)"
   ]
  },
  {
   "cell_type": "code",
   "execution_count": null,
   "id": "ad2d7296-e9f5-41a8-b629-1784b234d59d",
   "metadata": {},
   "outputs": [],
   "source": [
    "df_test.head()"
   ]
  },
  {
   "cell_type": "code",
   "execution_count": null,
   "id": "0b8a4f41-e9e7-4a73-aba6-00f7cb2c0209",
   "metadata": {},
   "outputs": [],
   "source": [
    "df_test.shape"
   ]
  },
  {
   "cell_type": "code",
   "execution_count": null,
   "id": "fb782cac-5f0c-40c9-9154-eb0250ee42f7",
   "metadata": {},
   "outputs": [],
   "source": [
    "#Prediccion = df_test['prediction']"
   ]
  },
  {
   "cell_type": "code",
   "execution_count": null,
   "id": "8243e884-8294-47be-82a0-839060a9e068",
   "metadata": {},
   "outputs": [],
   "source": [
    "#Prediccion.to_csv(\"predictions.csv\", header='final_status', index = False)"
   ]
  }
 ],
 "metadata": {
  "kernelspec": {
   "display_name": "Python 3",
   "language": "python",
   "name": "python3"
  },
  "language_info": {
   "codemirror_mode": {
    "name": "ipython",
    "version": 3
   },
   "file_extension": ".py",
   "mimetype": "text/x-python",
   "name": "python",
   "nbconvert_exporter": "python",
   "pygments_lexer": "ipython3",
   "version": "3.8.8"
  }
 },
 "nbformat": 4,
 "nbformat_minor": 5
}
